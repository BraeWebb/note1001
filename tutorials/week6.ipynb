{
 "cells": [
  {
   "cell_type": "markdown",
   "id": "dense-reviewer",
   "metadata": {},
   "source": [
    "# File I/O and Processing\n",
    "\n"
   ]
  },
  {
   "cell_type": "markdown",
   "id": "collaborative-studio",
   "metadata": {
    "tags": []
   },
   "source": [
    "## Function Finder\n",
    "\n",
    "1. In this task, we will write a function that reads and analyses Python source code files. The function we write will find all function definitions within the file.\n",
    "\n",
    "Write a function `find_functions(filename)` that takes the name of a file containing\n",
    "Python code, and finds the name of each function defined in the file. The output should\n",
    "be written to a file called `functions.txt`, with one function name per line. You may like to\n",
    "use the sample file `week06_functions.py` to test your code. For this file, the output file\n",
    "`functions.txt` should contain: \n",
    "```\n",
    "def square(x):\n",
    "def add(x, y):\n",
    "def get_0():\n",
    "```"
   ]
  },
  {
   "cell_type": "code",
   "execution_count": 5,
   "id": "excess-allergy",
   "metadata": {
    "jupyter": {
     "source_hidden": true
    },
    "tags": []
   },
   "outputs": [],
   "source": [
    "import os\n",
    "os.chdir(\"tutorials\")"
   ]
  },
  {
   "cell_type": "code",
   "execution_count": 7,
   "id": "identical-virus",
   "metadata": {},
   "outputs": [
    {
     "name": "stdout",
     "output_type": "stream",
     "text": [
      "def square(x) :\n",
      "\n",
      "    return x ** 2\n",
      "\n",
      "\n",
      "\n",
      "\n",
      "\n",
      "def add(x, y) :\n",
      "\n",
      "    while y > 0 :\n",
      "\n",
      "        x += 1\n",
      "\n",
      "        y -= 1\n",
      "\n",
      "    return x\n",
      "\n",
      "\n",
      "\n",
      "print(add(3, 2))\n",
      "\n",
      "\n",
      "\n",
      "\n",
      "\n",
      "def get_0() :\n",
      "\n",
      "    return 0\n",
      "\n",
      "\n",
      "\n",
      "\n",
      "\n",
      "print(\"def is used at the start of functions definitions.\")\n",
      "\n",
      "defrosted = False\n",
      "\n",
      "#def f(x) :\n",
      "\n",
      "\"def g(y) :\"\n",
      "\n"
     ]
    }
   ],
   "source": [
    "with open(\"week06_functions.py\") as file:\n",
    "    for line in file:\n",
    "        print(line)"
   ]
  },
  {
   "cell_type": "code",
   "execution_count": 7,
   "id": "compact-budget",
   "metadata": {},
   "outputs": [
    {
     "data": {
      "text/plain": [
       "False"
      ]
     },
     "execution_count": 7,
     "metadata": {},
     "output_type": "execute_result"
    }
   ],
   "source": [
    "\"abc\".startswith(\"b\")"
   ]
  },
  {
   "cell_type": "code",
   "execution_count": 8,
   "id": "suffering-mason",
   "metadata": {},
   "outputs": [],
   "source": [
    "with open(\"output.txt\", \"w\") as file:\n",
    "    file.write(\"hello world\")"
   ]
  },
  {
   "cell_type": "code",
   "execution_count": 9,
   "id": "electric-christianity",
   "metadata": {},
   "outputs": [],
   "source": [
    "def find_functions(filename: str) -> None:\n",
    "    \"\"\"\n",
    "    Read through a python file to write all function\n",
    "    definitions to a file named functions.txt\n",
    "    \n",
    "    A function definition in python will always start\n",
    "    with 'def ' followed by the function name and formal \n",
    "    parameters.\n",
    "    \n",
    "    Parameters:\n",
    "        filename: A path to a python file to read.\n",
    "    \"\"\"\n",
    "    with open(filename) as python_file:\n",
    "        with open(\"functions.txt\", \"w\") as out:\n",
    "            for line in python_file:\n",
    "                if line.startswith(\"def \"):\n",
    "                    out.write(line)\n",
    "                    \n",
    "\n",
    "find_functions(\"week06_functions.py\")"
   ]
  },
  {
   "cell_type": "markdown",
   "id": "green-while",
   "metadata": {},
   "source": [
    "2. Modify this function to instead return a list of tuples of the form `(linenum, name, args)`, where `name` is the name of a function, `args` is a tuple of parameter names to the function, and `linenum` is the line number containing the function definition. For example:\n",
    "```python\n",
    ">>> find_functions('week06_functions.py')\n",
    "[(1, 'square', ('x',)),\n",
    "(5, 'add', ('x', 'y')),\n",
    "(14, 'get_0', ())]\n",
    "```"
   ]
  },
  {
   "cell_type": "code",
   "execution_count": 10,
   "id": "satellite-symbol",
   "metadata": {},
   "outputs": [
    {
     "name": "stdout",
     "output_type": "stream",
     "text": [
      "0\n",
      "a\n",
      "1\n",
      "b\n",
      "2\n",
      "c\n"
     ]
    }
   ],
   "source": [
    "for i, char in enumerate(\"abc\"):\n",
    "    print(i)\n",
    "    print(char)"
   ]
  },
  {
   "cell_type": "code",
   "execution_count": 12,
   "id": "north-shepherd",
   "metadata": {},
   "outputs": [
    {
     "data": {
      "text/plain": [
       "('hello', '|', 'world|how|are|you')"
      ]
     },
     "execution_count": 12,
     "metadata": {},
     "output_type": "execute_result"
    }
   ],
   "source": [
    "\"hello|world|how|are|you\".partition(\"|\")"
   ]
  },
  {
   "cell_type": "code",
   "execution_count": 13,
   "id": "vocal-halloween",
   "metadata": {},
   "outputs": [
    {
     "data": {
      "text/plain": [
       "['hello', 'world', 'how', 'are', 'you']"
      ]
     },
     "execution_count": 13,
     "metadata": {},
     "output_type": "execute_result"
    }
   ],
   "source": [
    "\"hello|world|how|are|you\".split(\"|\")"
   ]
  },
  {
   "cell_type": "code",
   "execution_count": 28,
   "id": "searching-twins",
   "metadata": {},
   "outputs": [
    {
     "data": {
      "text/plain": [
       "[(1, 'square', ('x',)), (5, 'add', ('x', ' y')), (14, 'get_0', ('',))]"
      ]
     },
     "execution_count": 28,
     "metadata": {},
     "output_type": "execute_result"
    }
   ],
   "source": [
    "FunctionDefinition = tuple[int, str, tuple[str, ...]]\n",
    "\n",
    "def find_functions(filename: str) -> list[FunctionDefinition]:\n",
    "    \"\"\"\n",
    "    Parse the python file at the given filename to find\n",
    "    all the function definitions within.\n",
    "    \n",
    "    Parameters:\n",
    "        filename: A path to a python file.\n",
    "        \n",
    "    Returns:\n",
    "        A list of tuples, each element of the tuple representing\n",
    "        a python function definition.\n",
    "        The tuple is comprised of the line number of the function\n",
    "        definition, the function name and a list of the formal\n",
    "        parameters the function takes as input.\n",
    "    \"\"\"\n",
    "    definitions = []\n",
    "    \n",
    "    with open(filename) as file:\n",
    "        for lineno, line in enumerate(file):\n",
    "            if line.startswith(\"def \"):\n",
    "                name, _, rest = line[4:].partition(\"(\")\n",
    "                \n",
    "                parameters, _, _ = rest.partition(\")\")\n",
    "                parameters = tuple(parameters.split(\",\"))\n",
    "                \n",
    "                definition = (lineno + 1, name, parameters)\n",
    "                definitions.append(definition)\n",
    "    \n",
    "    return definitions\n",
    "\n",
    "find_functions(\"week06_functions.py\")"
   ]
  },
  {
   "cell_type": "markdown",
   "id": "suspected-ordering",
   "metadata": {},
   "source": [
    "**Challenge: Extract and Parse Function Comment** Refer to tutorial sheet."
   ]
  },
  {
   "cell_type": "markdown",
   "id": "hairy-musician",
   "metadata": {},
   "source": [
    "## Reading Configuration Files\n",
    "\n",
    "When an application has to store information about how it’s configured (for example, a user’s preferences), it can do it by writing the information to a file, which can later be retrieved. When reading the configuration file, the application must translate the file into a suitable format, such as a dictionary.\n",
    "\n",
    "Download the file `week06_config.txt`, which contains the following: \n",
    "```\n",
    "[user]\n",
    "name=Eric Idle\n",
    "email=e.idle@pythons.com\n",
    "mobile=0412345678\n",
    "[notifications]\n",
    "email=yes\n",
    "sms=no\n",
    "```\n",
    "\n",
    "In this format, each piece of data has a name (e.g. `email`) and a value (e.g. `e.idle@pythons.com`). The names/values are grouped under a heading (such as `user` or `notifications`). Each line in the file contains either a heading (surrounded by `[]` brackets), or a name/value pair (separated by an `=`).\n",
    "\n",
    "Write a function `read_config` which takes a configuration file such as this, and returns a dictionary representation of the data, as in this example: \n",
    "```python\n",
    ">>> read_config('config.txt')\n",
    "{'user': {'name': 'Eric Idle',\n",
    " 'email': 'e.idle@pythons.com',\n",
    " 'mobile': '0412345678'},\n",
    "'notifications': {'email': 'yes', 'sms': 'no'}}\n",
    "```"
   ]
  },
  {
   "cell_type": "code",
   "execution_count": 11,
   "id": "urban-undergraduate",
   "metadata": {},
   "outputs": [
    {
     "data": {
      "text/plain": [
       "{'user': {'name': 'Eric Idle\\n',\n",
       "  'email': 'e.idle@pythons.com\\n',\n",
       "  'mobile': '0412345678\\n'},\n",
       " 'notifications': {'email': 'yes\\n', 'sms': 'no\\n'}}"
      ]
     },
     "execution_count": 11,
     "metadata": {},
     "output_type": "execute_result"
    }
   ],
   "source": [
    "def read_config(filename: str) -> dict[str, dict[str, str]]:\n",
    "    \"\"\"\n",
    "    Read a configuration file at the given filename and\n",
    "    return the configuration as a dictionary.\n",
    "    \n",
    "    The file has [x] on a line to indicate a new section, x.\n",
    "    Within a section, key value data is recorded as a=b where\n",
    "    a is the key and b is the value.\n",
    "    \n",
    "    Parameters:\n",
    "        filename: A path to a configuration file.\n",
    "        \n",
    "    Returns:\n",
    "        A dictionary which maps section headers to dictionaries.\n",
    "        The dictionaries in the value maps the key value data\n",
    "        the follows a section header.\n",
    "    \"\"\"\n",
    "    result = {}\n",
    "    section_header = None\n",
    "    with open(filename) as config:\n",
    "        for line in config:\n",
    "            if line.startswith(\"[\"):\n",
    "                _, _, line = line.partition(\"[\")\n",
    "                section_header, _, _ = line.partition(\"]\")\n",
    "                result[section_header] = {}\n",
    "            else:\n",
    "                key, _, value = line.partition(\"=\")\n",
    "                result[section_header][key] = value\n",
    "    return result\n",
    "                \n",
    "read_config(\"week06_config.txt\")"
   ]
  },
  {
   "cell_type": "markdown",
   "id": "formal-mechanics",
   "metadata": {},
   "source": [
    "Also write a function `get_value which` takes the above dictionary, and the dot-separated\n",
    "name of a setting (e.g. 'user.mobile'), and returns the appropriate value ('0412345678' in this\n",
    "case). It is safe to assume the inputs are valid.\n",
    "\n",
    "```python\n",
    ">>> config = read_config('config.txt')\n",
    ">>> get_value(config, 'user.mobile')\n",
    "'0412345678'\n",
    ">>> get_value(config, 'notifications.email')\n",
    "'yes'\n",
    "```\n",
    "\n",
    "Modify your `read_config` function so that it raises a `ValueError` if the file is invalid; that is, if the file contains a line which does not look like `[...]` or `...=...`, or if the file contains any name/value pairs before the first heading. You may wish to test your code on the following files: `week06_bad_config1.txt` and `week06_bad_config2.txt`.\n",
    "\n",
    "Throughout this exercise, it is safe to assume that the headings/names/values in the file do\n",
    "not contain the characters `[ ] =`, and that the headings/names do not contain `'.'`"
   ]
  },
  {
   "cell_type": "code",
   "execution_count": 12,
   "id": "fitting-ensemble",
   "metadata": {},
   "outputs": [
    {
     "data": {
      "text/plain": [
       "'0412345678\\n'"
      ]
     },
     "execution_count": 12,
     "metadata": {},
     "output_type": "execute_result"
    }
   ],
   "source": [
    "def get_value(config, key):\n",
    "    \"\"\"\n",
    "    Read the key within a dictionary...\n",
    "    \"\"\"\n",
    "    path = key.split(\".\")\n",
    "    result = config\n",
    "    for key in path:\n",
    "        result = result[key]\n",
    "    return result\n",
    "    \n",
    "config = read_config(\"week06_config.txt\")\n",
    "get_value(config, \"user.mobile\")"
   ]
  },
  {
   "cell_type": "markdown",
   "id": "sixth-antenna",
   "metadata": {},
   "source": [
    "**Challenge: Create a Class** Refer to tutorial sheet"
   ]
  }
 ],
 "metadata": {
  "kernelspec": {
   "display_name": "Python 3",
   "language": "python",
   "name": "python3"
  },
  "language_info": {
   "codemirror_mode": {
    "name": "ipython",
    "version": 3
   },
   "file_extension": ".py",
   "mimetype": "text/x-python",
   "name": "python",
   "nbconvert_exporter": "python",
   "pygments_lexer": "ipython3",
   "version": "3.9.0"
  }
 },
 "nbformat": 4,
 "nbformat_minor": 5
}
